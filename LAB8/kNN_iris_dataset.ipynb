{
  "nbformat": 4,
  "nbformat_minor": 0,
  "metadata": {
    "colab": {
      "provenance": [],
      "authorship_tag": "ABX9TyNaLS82t+RX7PQaxToK9BQY",
      "include_colab_link": true
    },
    "kernelspec": {
      "name": "python3",
      "display_name": "Python 3"
    },
    "language_info": {
      "name": "python"
    }
  },
  "cells": [
    {
      "cell_type": "markdown",
      "metadata": {
        "id": "view-in-github",
        "colab_type": "text"
      },
      "source": [
        "<a href=\"https://colab.research.google.com/github/SwatiAF/ML-LAB/blob/main/LAB8/kNN_iris_dataset.ipynb\" target=\"_parent\"><img src=\"https://colab.research.google.com/assets/colab-badge.svg\" alt=\"Open In Colab\"/></a>"
      ]
    },
    {
      "cell_type": "code",
      "execution_count": 1,
      "metadata": {
        "colab": {
          "base_uri": "https://localhost:8080/"
        },
        "id": "eWLdR2OWgO1x",
        "outputId": "b77f57ae-1f59-4a8d-a922-92970f87124f"
      },
      "outputs": [
        {
          "output_type": "stream",
          "name": "stdout",
          "text": [
            "   sepal-length  sepal-width  petal-length  petal-width\n",
            "0           5.1          3.5           1.4          0.2\n",
            "1           4.9          3.0           1.4          0.2\n",
            "2           4.7          3.2           1.3          0.2\n",
            "3           4.6          3.1           1.5          0.2\n",
            "4           5.0          3.6           1.4          0.2\n",
            "Original Label            Predicted Label           Correct/Wrong            \n",
            "Iris-versicolor           Iris-versicolor           Correct                  \n",
            "Iris-versicolor           Iris-versicolor           Correct                  \n",
            "Iris-virginica            Iris-virginica            Correct                  \n",
            "Iris-virginica            Iris-virginica            Correct                  \n",
            "Iris-virginica            Iris-virginica            Correct                  \n",
            "Iris-versicolor           Iris-versicolor           Correct                  \n",
            "Iris-virginica            Iris-virginica            Correct                  \n",
            "Iris-setosa               Iris-setosa               Correct                  \n",
            "Iris-versicolor           Iris-versicolor           Correct                  \n",
            "Iris-virginica            Iris-virginica            Correct                  \n",
            "Iris-versicolor           Iris-versicolor           Correct                  \n",
            "Iris-setosa               Iris-setosa               Correct                  \n",
            "Iris-virginica            Iris-virginica            Correct                  \n",
            "Iris-versicolor           Iris-versicolor           Correct                  \n",
            "Iris-virginica            Iris-virginica            Correct                  \n",
            "\n",
            "Classification Report:\n",
            "                  precision    recall  f1-score   support\n",
            "\n",
            "    Iris-setosa       1.00      1.00      1.00         2\n",
            "Iris-versicolor       1.00      1.00      1.00         6\n",
            " Iris-virginica       1.00      1.00      1.00         7\n",
            "\n",
            "       accuracy                           1.00        15\n",
            "      macro avg       1.00      1.00      1.00        15\n",
            "   weighted avg       1.00      1.00      1.00        15\n",
            "\n",
            "Accuracy of the classifer is 1.00\n"
          ]
        }
      ],
      "source": [
        "import numpy as np \n",
        "import pandas as pd\n",
        "from sklearn.neighbors import KNeighborsClassifier\n",
        "from sklearn.model_selection import train_test_split  \n",
        "from sklearn import metrics\n",
        "\n",
        "names = ['sepal-length', 'sepal-width', 'petal-length', 'petal-width', 'Class']\n",
        "\n",
        "# Read dataset to pandas dataframe\n",
        "dataset = pd.read_csv(r\"IRISdataset.csv\", names=names)\n",
        "X = dataset.iloc[:, :-1]  \n",
        "y = dataset.iloc[:, -1]\n",
        "print(X.head())\n",
        "Xtrain, Xtest, ytrain, ytest = train_test_split(X, y, test_size=0.10) \n",
        "\n",
        "classifier = KNeighborsClassifier(n_neighbors=5).fit(Xtrain, ytrain) \n",
        "\n",
        "ypred = classifier.predict(Xtest)\n",
        "\n",
        "i = 0\n",
        "print ('%-25s %-25s %-25s' % ('Original Label', 'Predicted Label', 'Correct/Wrong'))\n",
        "for label in ytest:\n",
        "    print ('%-25s %-25s' % (label, ypred[i]), end=\"\")\n",
        "    if (label == ypred[i]):\n",
        "        print (' %-25s' % ('Correct'))\n",
        "    else:\n",
        "        print (' %-25s' % ('Wrong'))\n",
        "    i = i + 1\n",
        "\n",
        "print(\"\\nClassification Report:\\n\",metrics.classification_report(ytest, ypred)) \n",
        "print('Accuracy of the classifer is %0.2f' % metrics.accuracy_score(ytest,ypred))"
      ]
    }
  ]
}